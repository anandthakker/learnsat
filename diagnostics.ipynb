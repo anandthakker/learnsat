{
 "cells": [
  {
   "cell_type": "markdown",
   "metadata": {},
   "source": [
    "# Run Learning Diagnostics"
   ]
  },
  {
   "cell_type": "code",
   "execution_count": 2,
   "metadata": {
    "collapsed": true
   },
   "outputs": [],
   "source": [
    "import os\n",
    "import sys\n",
    "import numpy\n",
    "import math\n",
    "import caffe\n",
    "\n",
    "from pprint import pprint\n",
    "from pylab import *\n",
    "%matplotlib inline\n",
    "\n",
    "caffe.set_device(0)\n",
    "caffe.set_mode_gpu()"
   ]
  },
  {
   "cell_type": "code",
   "execution_count": 3,
   "metadata": {
    "collapsed": false
   },
   "outputs": [
    {
     "data": {
      "application/javascript": [
       "IPython.OutputArea.auto_scroll_threshold = 9999;"
      ],
      "text/plain": [
       "<IPython.core.display.Javascript object>"
      ]
     },
     "metadata": {},
     "output_type": "display_data"
    }
   ],
   "source": [
    "%%javascript\n",
    "IPython.OutputArea.auto_scroll_threshold = 9999;"
   ]
  },
  {
   "cell_type": "code",
   "execution_count": 4,
   "metadata": {
    "collapsed": true
   },
   "outputs": [],
   "source": [
    "## Set up the network\n",
    "from caffe import layers as L\n",
    "from caffe import params as P\n",
    "\n",
    "# define the network here:\n",
    "def lenet(lmdb, mean_file, batch_size):\n",
    "    # our version of LeNet: a series of linear and simple nonlinear transformations\n",
    "    n = caffe.NetSpec()\n",
    "    n.data, n.label = L.Data(batch_size=batch_size, backend=P.Data.LMDB, source=lmdb,\n",
    "                             transform_param={\n",
    "                                'scale': 1./255,\n",
    "                                'mean_file': mean_file\n",
    "                            }, ntop=2)\n",
    "    \n",
    "    n.conv1 = L.Convolution(n.data, kernel_size=7, stride=3, num_output=20, weight_filler=dict(type='xavier'))\n",
    "    n.relu1 = L.ReLU(n.conv1)\n",
    "    n.pool1 = L.Pooling(n.relu1, kernel_size=2, stride=2, pool=P.Pooling.MAX)\n",
    "    n.norm1 = L.LRN(n.pool1, alpha=0.0001, beta=0.75)\n",
    "    \n",
    "    n.conv2 = L.Convolution(n.norm1, kernel_size=5, pad=2, num_output=40, weight_filler=dict(type='xavier'))\n",
    "    n.relu2 = L.ReLU(n.conv2)\n",
    "    n.pool2 = L.Pooling(n.relu2, kernel_size=2, stride=1, pool=P.Pooling.MAX)\n",
    "    n.norm2 = L.LRN(n.pool2, alpha=0.0001, beta=0.75)\n",
    "\n",
    "    n.conv3 = L.Convolution(n.norm2, kernel_size=3, pad=1, num_output=80, weight_filler=dict(type='xavier'))\n",
    "    n.relu3 = L.ReLU(n.conv3)\n",
    "    n.pool3 = L.Pooling(n.relu3, kernel_size=2, stride=2, pool=P.Pooling.MAX)\n",
    "    n.norm3 = L.LRN(n.pool3, alpha=0.0001, beta=0.75)\n",
    "\n",
    "    n.ip1 = L.InnerProduct(n.norm3, num_output=500, weight_filler=dict(type='xavier'))\n",
    "    n.relu1 = L.ReLU(n.ip1, in_place=True)\n",
    "    \n",
    "    n.ip2 = L.InnerProduct(n.relu1, num_output=2, weight_filler=dict(type='xavier'))\n",
    "    n.loss = L.SoftmaxWithLoss(n.ip2, n.label)\n",
    "    return n.to_proto()\n",
    "    "
   ]
  },
  {
   "cell_type": "code",
   "execution_count": 33,
   "metadata": {
    "collapsed": false
   },
   "outputs": [],
   "source": [
    "def configure_solver (total_size):\n",
    "    solver_config = \"\"\"# Generated from python.\n",
    "    # Train Set\n",
    "    # Size: 11997\n",
    "    # Batch: 512\n",
    "    # Epoch = 24 iterations\n",
    "    #\n",
    "    # Test Set\n",
    "    # Size: 3290\n",
    "    # Batch: 100\n",
    "    # Epoch = 33 iterations\n",
    "    #\n",
    "    # Training net\n",
    "    train_net: \"temp/lenet_auto_train.prototxt\"\n",
    "    # Test net\n",
    "    test_net: \"temp/lenet_auto_test.prototxt\"\n",
    "    test_iter: 33\n",
    "    # Run testing every ___ iterations:\n",
    "    test_interval: 1000\n",
    "    # The base learning rate, momentum and the weight decay of the network.\n",
    "    base_lr: 0.01\n",
    "    momentum: 0.9\n",
    "    weight_decay: 0.005\n",
    "    # The learning rate policy\n",
    "    lr_policy: \"step\"\n",
    "    gamma: 0.1\n",
    "    # ~ 20 epochs rule of thumb from Karpathy\n",
    "    stepsize: %(twenty_epochs)i\n",
    "    # Display ~ every 5 epochs\n",
    "    display: 100\n",
    "    # The maximum number of iterations\n",
    "    max_iter: 5000\n",
    "    # solver mode: CPU or GPU\n",
    "    solver_mode: GPU\"\"\" % {\n",
    "        'twenty_epochs': int(total_size * 20.0 / 512)\n",
    "    }\n",
    "\n",
    "    with open('temp/autosolver.prototxt', 'w') as f:\n",
    "        f.write(solver_config)\n"
   ]
  },
  {
   "cell_type": "code",
   "execution_count": 49,
   "metadata": {
    "collapsed": true
   },
   "outputs": [],
   "source": [
    "import sklearn.metrics as metrics\n",
    "def run_test(net, iterations):\n",
    "    y_true = []\n",
    "    y_pred = []\n",
    "    loss = 0.0\n",
    "    for test_it in range(iterations):\n",
    "        net.forward()\n",
    "        y_pred.extend(net.blobs['ip2'].data.argmax(1))\n",
    "        y_true.extend(net.blobs['label'].data)\n",
    "        loss = loss + net.blobs['loss'].data\n",
    "    \n",
    "    accuracy_score = metrics.accuracy_score(y_true, y_pred)\n",
    "    precision_score = metrics.precision_score(y_true, y_pred)\n",
    "    recall_score = metrics.recall_score(y_true, y_pred)\n",
    "    loss = loss / iterations\n",
    "    \n",
    "    return loss, accuracy_score, precision_score, recall_score"
   ]
  },
  {
   "cell_type": "code",
   "execution_count": 53,
   "metadata": {
    "collapsed": false
   },
   "outputs": [
    {
     "name": "stdout",
     "output_type": "stream",
     "text": [
      "Training on 1000 inputs for 196 iterations.\n",
      "Iteration 0 testing...\n",
      "Iteration 195 testing...\n",
      "Training on 2000 inputs for 391 iterations.\n",
      "Iteration 0 testing...\n",
      "Iteration 390 testing...\n",
      "Training on 4000 inputs for 782 iterations.\n",
      "Iteration 0 testing...\n",
      "Iteration 781 testing...\n",
      "Training on 6000 inputs for 1172 iterations.\n",
      "Iteration 0 testing...\n",
      "Iteration 1171 testing...\n",
      "Training on 8000 inputs for 1563 iterations.\n",
      "Iteration 0 testing...\n",
      "Iteration 1562 testing...\n",
      "Training on 10000 inputs for 1954 iterations.\n",
      "Iteration 0 testing...\n",
      "Iteration 1953 testing...\n",
      "Done\n"
     ]
    }
   ],
   "source": [
    "training_sets = [1000 , 2000, 4000, 6000, 8000, 10000]\n",
    "results = {}\n",
    "for s in training_sets:\n",
    "    configure_solver(s)\n",
    "    \n",
    "    with open('temp/lenet_auto_train.prototxt', 'w') as f:\n",
    "        f.write('name: \"LeNet\"\\n')\n",
    "        prefix = 'temp/train-' + str(s) + '-lmdb'\n",
    "        f.write(str(lenet(prefix, 'temp/learnsat_mean.binaryproto', 512)))\n",
    "\n",
    "    with open('temp/lenet_auto_test.prototxt', 'w') as f:\n",
    "        f.write(str(lenet('temp/learnsat_val_lmdb', 'temp/learnsat_mean.binaryproto', 100)))\n",
    "        \n",
    "    solver = caffe.SGDSolver('temp/autosolver.prototxt')\n",
    "    \n",
    "    results[s] = {}\n",
    "    \n",
    "    epochs = 100\n",
    "    niter = int(epochs * s / 512.0 + 1)\n",
    "    test_interval = niter - 1 # just test once at the beginning and once at the end\n",
    "    ntest = 1 + int(np.ceil(float(niter-1) / test_interval))\n",
    "    assert(ntest == 2)\n",
    "    # losses will also be stored in the log\n",
    "    train_loss = zeros(ntest)\n",
    "    test_loss = zeros(ntest)\n",
    "    train_acc = zeros(ntest)\n",
    "    test_acc = zeros(ntest)\n",
    "    test_precision = zeros(ntest)\n",
    "    test_recall = zeros(ntest)\n",
    "\n",
    "    print 'Training on ' + str(s) + ' inputs for ' + str(niter) + ' iterations.'\n",
    "        \n",
    "    # the main solver loop\n",
    "    for it in range(niter):\n",
    "        solver.step(1)  # SGD by Caffe\n",
    "        # run a full test every so often\n",
    "        if it % test_interval == 0:\n",
    "            print 'Iteration', it, 'testing...'\n",
    "            index = it // test_interval\n",
    "            test_loss[index], test_acc[index], test_precision[index], test_recall[index] = run_test(solver.test_nets[0], 33)\n",
    "            train_loss[index], train_acc[index], _, _ = run_test(solver.net, np.ceil(s / 512.))\n",
    "        \n",
    "    # run a final test at the end\n",
    "    results[s] = {\n",
    "        'train_loss': train_loss,\n",
    "        'train_acc': train_acc,\n",
    "        'test_loss': test_loss,\n",
    "        'test_acc': test_acc,\n",
    "        'test_precision': test_precision,\n",
    "        'test_recall': test_recall\n",
    "    }\n",
    "\n",
    "print('Done')"
   ]
  },
  {
   "cell_type": "code",
   "execution_count": 55,
   "metadata": {
    "collapsed": false,
    "scrolled": false
   },
   "outputs": [
    {
     "name": "stdout",
     "output_type": "stream",
     "text": [
      "[1000, 2000, 4000, 6000, 8000, 10000]\n",
      "[0.61575757575757573, 0.64848484848484844, 0.72636363636363632, 0.76757575757575758, 0.79212121212121211, 0.80030303030303029]\n",
      "[0.6484375, 0.64973958333333337, 0.7494419642857143, 0.79421164772727271, 0.80989583333333337, 0.81907894736842102]\n"
     ]
    },
    {
     "data": {
      "text/plain": [
       "<matplotlib.text.Text at 0x7f42e7e08710>"
      ]
     },
     "execution_count": 55,
     "metadata": {},
     "output_type": "execute_result"
    },
    {
     "data": {
      "image/png": "[encoded data removed]",
      "text/plain": [
       "<matplotlib.figure.Figure at 0x7f42e7e30a10>"
      ]
     },
     "metadata": {},
     "output_type": "display_data"
    }
   ],
   "source": [
    "size = training_sets\n",
    "test_loss = [results[r]['test_loss'][1] for r in training_sets]\n",
    "train_loss = [results[r]['train_loss'][1] for r in training_sets]\n",
    "test_acc = [results[r]['test_acc'][1] for r in training_sets]\n",
    "train_acc = [results[r]['train_acc'][1] for r in training_sets]\n",
    "precision = [results[r]['test_precision'][1] for r in training_sets]\n",
    "recall = [results[r]['test_recall'][1] for r in training_sets]\n",
    "print(size)\n",
    "print(test_acc)\n",
    "print(train_acc)\n",
    "fig, ax1 = subplots()\n",
    "ax1.plot(size, test_loss, 'r',\n",
    "         size, train_loss, 'g')\n",
    "ax1.set_xlabel('size')\n",
    "ax1.set_ylabel('accuracy')"
   ]
  },
  {
   "cell_type": "code",
   "execution_count": null,
   "metadata": {
    "collapsed": false
   },
   "outputs": [],
   "source": [
    "from shutil import copyfile\n",
    "\n",
    "results_file = 'results/lenet-2.2nd-try'\n",
    "if os.path.exists(results_file + '_train_loss.npy'):\n",
    "    print('File exists! NOT saving!')\n",
    "else:\n",
    "    numpy.save(results_file + '_train_loss.npy', train_loss)\n",
    "    numpy.save(results_file + '_train_acc.npy', train_acc)\n",
    "    numpy.save(results_file + '_test_acc.npy', test_acc)\n",
    "    fig.savefig(results_file + '_plot.png')\n",
    "    copyfile('temp/lenet_auto_train.prototxt', results_file + '_train.prototxt')\n",
    "    copyfile('temp/autosolver.prototxt', results_file + '_solver.prototxt')"
   ]
  }
 ],
 "metadata": {
  "description": "Define, train, and test the classic LeNet with the Python interface.",
  "example_name": "Learning LeNet",
  "include_in_docs": true,
  "kernelspec": {
   "display_name": "Python 2",
   "language": "python",
   "name": "python2"
  },
  "language_info": {
   "codemirror_mode": {
    "name": "ipython",
    "version": 2
   },
   "file_extension": ".py",
   "mimetype": "text/x-python",
   "name": "python",
   "nbconvert_exporter": "python",
   "pygments_lexer": "ipython2",
   "version": "2.7.6"
  },
  "priority": 2
 },
 "nbformat": 4,
 "nbformat_minor": 0
}
